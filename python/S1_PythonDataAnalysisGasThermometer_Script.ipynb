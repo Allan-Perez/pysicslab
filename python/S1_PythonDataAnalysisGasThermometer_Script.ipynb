{
 "cells": [
  {
   "cell_type": "markdown",
   "metadata": {},
   "source": [
    "# PHYSICS 1:  PYTHON DATA ANALYSIS OF GAS THERMOMETER"
   ]
  },
  {
   "cell_type": "markdown",
   "metadata": {},
   "source": [
    "### Student ID:"
   ]
  },
  {
   "cell_type": "markdown",
   "metadata": {},
   "source": [
    "## Pre-Lab Tutorial Questions"
   ]
  },
  {
   "cell_type": "markdown",
   "metadata": {},
   "source": [
    "<p style=\"color: blue\">Modern computing can ease scientific data analysis at all levels and scales, and it is indispensable for handling large data sets and applying sophisticated mathematical procedures.\n",
    "The python scripting and programming language has gained widespread popularity as a platform for physics data analysis due to its versatility, ease of use, and scalability.\n",
    "The Jupyter project provides a powerful browser-based interface for interactive data analysis.</p>"
   ]
  },
  {
   "cell_type": "markdown",
   "metadata": {},
   "source": [
    "<p style=\"color: blue\"><a name=\"Prelab1\">**Pre-lab 1.**</a>  Login to the School's Jupyter hub (https://jupyter.physics.gla.ac.uk) and create a personal copy of this notebook.\n",
    "You may use a copy of this script as your logbook for this exercise.\n",
    "Simply 'Insert' new cells for your work where appropriate.</p>"
   ]
  },
  {
   "attachments": {
    "uscpG.jpg": {
     "image/jpeg": "[encoded data removed]"
    }
   },
   "cell_type": "markdown",
   "metadata": {},
   "source": [
    "<a name=\"Fig1\"></a>\n",
    "![uscpG.jpg](attachment:uscpG.jpg)  \n",
    "\n",
    "<p style='text-align: center; color: blue'>Figure 1: Depiction of a gas thermometer.</p>"
   ]
  },
  {
   "cell_type": "markdown",
   "metadata": {},
   "source": [
    "<p style=\"color: blue\">The gas thermometer is an apparatus for indirectly measuring temperature that is based on the change in pressure of a fixed amount of gas.\n",
    "The gas bulb is connected to a cylindrical reservoir of liquid mercury, $A$, so that the downward pressure on the top of the mercury in reservoir $A$ is the gas pressure $P$.\n",
    "Reservoir $A$ is connected by a flexible tube through which the mercury can flow freely to another cylindrical reservoir $B$.\n",
    "The top of reservoir $B$ is open so that the downward pressure at the top of reservoir $B$ is atmospheric pressure, $P_{\\mathrm{atm}}$.</p>"
   ]
  },
  {
   "cell_type": "markdown",
   "metadata": {},
   "source": [
    "<p style=\"color: blue\"><a name=\"Prelab2\">**Pre-lab 2.**</a> Explain why the pressure in the bulb, $P$, is related to the height difference of the mercury in the two reservoirs, $h$, by the following relation:</p>\n",
    "\n",
    "<div style=\"color: blue\"><a name=\"eq:hg\">*Equation 1:*</a>  Pressure relation\n",
    "\\begin{equation}\n",
    "  P = P_{\\mathrm{atm}} + d_{\\mathrm{Hg}}\\,g\\,h\n",
    "\\end{equation}</div>\n",
    "<p style=\"color: blue\">where $d_{\\mathrm{Hg}} = 14.184\\,\\mathrm{g}/\\mathrm{cm}^3$ is the density of liquid mercury and $g = 9.8\\,\\mathrm{m}/\\mathrm{s^2}$ is the acceleration due to gravity.</p>"
   ]
  },
  {
   "cell_type": "markdown",
   "metadata": {},
   "source": [
    " "
   ]
  },
  {
   "cell_type": "markdown",
   "metadata": {},
   "source": [
    "<p style=\"color: blue\">The gas in the bulb behaves according to the ideal gas law in its operational range of temperatures and pressures,</p>\n",
    "\n",
    "<p style=\"color: blue\"><a name=\"eq:ideal\">*Equation 2:*</a>  Ideal Gas Law\n",
    "\\begin{equation}\n",
    "  P\\, V\\, = N\\, k\\, T,\n",
    "\\end{equation}</p>\n",
    "\n",
    "<p style=\"color: blue\">where $P$ is the pressure of the gas, $V$ is its volume, $T$ is its temperature, $N$ is the number of molecules of the gas, and $k = 1.3807 \\times 10^{-23}\\,\\mathrm{J}/\\mathrm{K}$ is Boltzmann's constant.</p>"
   ]
  },
  {
   "cell_type": "markdown",
   "metadata": {},
   "source": [
    "<p style=\"color: blue\"><a name=\"Prelab3\">**Pre-lab 3.**</a>  From the ideal gas law and the relation in [Pre-lab 2](#Prelab2), derive a expression for the gas temperature, $T$, as a function of $h$, the height difference of mercury.</p>"
   ]
  },
  {
   "cell_type": "markdown",
   "metadata": {},
   "source": [
    " "
   ]
  },
  {
   "cell_type": "markdown",
   "metadata": {},
   "source": [
    "<div style=\"color: blue\">The operation of a constant volume gas thermometer proceeds in three steps:</div>\n",
    "<ol style=\"color: blue\">\n",
    "  <li style=\"margin-bottom: 5px\">The apparatus is calibrated at a known temperature, $T_0$.\n",
    "  This involves immersing the gas bulb in an environment with a known temperature, for example an ice water bath, and allowing it to come into thermal equilibrium with the bath.\n",
    "  After thermal equilibrium is reached, the ruler ('Scale' in the figure) is adjusted so that it's $0$ is at the level of the top of the mercury in reservoir $A$.\n",
    "  At this reference point, the volume of the gas in the bulb is $V_0$, and the height of the mercury in reservoir $B$ is at $h_0$ above or below the top of the mercury in reservoir $A$.</li>\n",
    "\n",
    "  <li style=\"margin-bottom: 5px\">The bulb is then placed in the bath or environment with the unknown temperature to be measured, $T$, and allowed to come into thermal equilibrium.\n",
    "  The mercury will flow between reservoirs $A$ and $B$ as the temperature of the gas changes to bring the system into mechanical equilibrium (with balanced forces).</li>\n",
    "\n",
    "  <li style=\"margin-bottom: 5px\">Then reservoir $B$ is physically raised or lowered with respect to the rest of the apparatus until the mercury in reservoir $A$ is once more at the $0$ level on the ruler.\n",
    "    At this point the gas in the bulb again has the same volume as it did during calibration, $V_0$, but it is now at the same temperature as the unknown environment, $T$.  The mercury in reservoir $B$ is at a new height, $h$, above the top of reservoir $A$.</li>\n",
    "</ol>"
   ]
  },
  {
   "cell_type": "markdown",
   "metadata": {},
   "source": [
    "<p style=\"color: blue\"><a name=\"Prelab4\">**Pre-lab 4.**</a> Show that the new height, $h$, is relatd to the change in temperature, $\\Delta T \\equiv T - T_0$, by the following expression:</p>\n",
    "\n",
    "<p style=\"color: blue\"><a name=\"eq:hlin\">*Equation 3:*</a> $h(\\Delta T)$\n",
    "\\begin{equation}\n",
    "  h =  h_0 + \\alpha (T - T_0) = h_0 + \\alpha\\,\\Delta T,\n",
    "\\end{equation}\n",
    "\n",
    "<p style=\"color: blue\">where $\\alpha$ is a product of constants of the apparatus (remember that the gas volume is a constant when operated in this way).\n",
    "Derive and expression for $\\alpha$.</p>"
   ]
  },
  {
   "cell_type": "markdown",
   "metadata": {},
   "source": [
    " "
   ]
  },
  {
   "cell_type": "markdown",
   "metadata": {},
   "source": [
    "## Aims"
   ]
  },
  {
   "cell_type": "markdown",
   "metadata": {},
   "source": [
    "- <div style=\"color: blue\">To gain familiarity with the use of Jupyter/python to perform common data reduction tasks.</div>\n",
    "\n",
    "\n",
    "- <div style=\"color: blue\">To make a plot of a data set with an easy-to-use python function.</div>\n",
    "\n",
    "\n",
    "- <div style=\"color: red\">_Key focus:  to use computerized data analysis to fit a data set to a linear model._</div>"
   ]
  },
  {
   "cell_type": "markdown",
   "metadata": {},
   "source": [
    "## Part 1:  Means, standard deviations, and standard errors"
   ]
  },
  {
   "cell_type": "markdown",
   "metadata": {},
   "source": [
    "<p style=\"color: blue\">The following set of data was collected from a (simulated) gas thermometer with an unknown scale constant $\\alpha$.\n",
    "For each of a set of known temperatures, $T_i$, there were five independently repeated height measurements, $h_{i, 1}$-$h_{i, 5}$.</p>"
   ]
  },
  {
   "cell_type": "markdown",
   "metadata": {},
   "source": [
    "<p style='text-align: center'><a name=\"Tab1\">Table 1:</a>  Measured mercury height differences, $h$, for a set of known temperatures.</p>\n",
    "\n",
    "| $T_i$ (K)  | | $h_{i,1}$ (mm) | $h_{i,2}$ (mm) | $h_{i,3}$ (mm) | $h_{i,4}$ (mm) | $h_{i,5}$ (mm) | | Mean $\\langle h \\rangle$ | Std. Err. $\\sigma_h$ |\n",
    "| --- |  | --- | --- | --- | --- | --- | | --- | --- |\n",
    "| 205.08 | | -171.02 | -182.70 | -170.18 | -191.85 | -181.07 | |  |  |\n",
    "| 217.14 | | -163.80 | -154.61 | -144.72 | -141.93 | -151.67 | |  |  |\n",
    "| 229.59 | | -126.23 | -120.62 | -133.74 | -120.26 | -116.21 | |  |  |\n",
    "| 235.76 | | -101.86 | -93.34 | -95.90 | -104.86 | -100.09 | |  |  |\n",
    "| 303.62 | | 107.37 |  78.42 |  92.43 |  71.43 |  67.90 | |  |  |\n",
    "| 328.29 | | 124.45 | 153.78 | 157.77 | 157.93 | 163.61 | |  |  |\n",
    "| 365.98 | | 236.04 | 227.81 | 243.76 | 227.74 | 261.57 | |  |  |"
   ]
  },
  {
   "cell_type": "markdown",
   "metadata": {},
   "source": [
    "### <a name=\"P1.1\">1.1:</a>  Import the data\n",
    "\n",
    "<p style=\"color: blue\">Put this data set into a python data structure to facilitate analysis.  We recommend a NumPy array (`np.array`); it makes many repetitive tasks possible with just one command.\n",
    "For convenience, this data is available in the file `gas_thermometer_data_1.csv` in comma-separated-values (`.csv`) format, which can be read with the `np.loadtxt()` command with `delimiter=','`.</p>"
   ]
  },
  {
   "cell_type": "markdown",
   "metadata": {},
   "source": [
    "<p style=\"color: blue\">**Python note:**  Extensions to python, like NumPy, are packaged into modules which must be `import`ed before they can be used.\n",
    "This must be done for each package for each notebook/session.\n",
    "When a modlue is imported, it may be assigned an alias with the `as` keyword.\n",
    "When the command below is executed, it will `import` the numpy module into your current session and assign the alias `np` to it.\n",
    "\n",
    "When using a function or class that is defined in `numpy` module, prepend the alias `np` to its name.</p>"
   ]
  },
  {
   "cell_type": "code",
   "execution_count": null,
   "metadata": {},
   "outputs": [],
   "source": [
    "## Always import numpy before using it\n",
    "import numpy as np"
   ]
  },
  {
   "cell_type": "code",
   "execution_count": null,
   "metadata": {},
   "outputs": [],
   "source": [
    "## The online help documentation system can provide help for almost anything.\n",
    "## Execute this cell to find out more about the np.loadtxt command.\n",
    "help(np.loadtxt)"
   ]
  },
  {
   "cell_type": "code",
   "execution_count": null,
   "metadata": {},
   "outputs": [],
   "source": []
  },
  {
   "cell_type": "markdown",
   "metadata": {},
   "source": [
    "### <a name=\"P1.2\">1.2:</a> Indexing\n",
    "\n",
    "<p style=\"color: blue\">Try indexing and slicing to obtain various subsets of the data set, as indicated in the comments of the cells below.  The syntax for indexing `np.array`s is a bit different from that of built-in python `list`s.</p>"
   ]
  },
  {
   "cell_type": "code",
   "execution_count": null,
   "metadata": {},
   "outputs": [],
   "source": [
    "## Just the temperature values (the first column in the table) for all rows\n"
   ]
  },
  {
   "cell_type": "code",
   "execution_count": null,
   "metadata": {},
   "outputs": [],
   "source": [
    "## The height measurements corresponding to 328.29 K (6th row of the table)\n"
   ]
  },
  {
   "cell_type": "code",
   "execution_count": null,
   "metadata": {},
   "outputs": [],
   "source": [
    "## All of the height measurements for all of the rows\n"
   ]
  },
  {
   "cell_type": "markdown",
   "metadata": {},
   "source": [
    "### <a name=\"P1.3\">1.3:</a> Means of $h$\n",
    "\n",
    "<p style=\"color: blue\">Calculate the mean values $\\langle h_i \\rangle$ of the mercury heights for each temperature.  Look up the `help()` documentation for `np.mean` and try to calculate all 7 means with a single command.  Verify that the command is doing what you expect by calculating at least one of the means by hand.</p>"
   ]
  },
  {
   "cell_type": "code",
   "execution_count": null,
   "metadata": {},
   "outputs": [],
   "source": [
    "## The online help documentation system is very useful.\n",
    "help(np.mean)"
   ]
  },
  {
   "cell_type": "code",
   "execution_count": null,
   "metadata": {},
   "outputs": [],
   "source": []
  },
  {
   "cell_type": "markdown",
   "metadata": {},
   "source": [
    "### <a name=\"P1.4\">1.4:</a> Standard deviations and standard errorrs\n",
    "\n",
    "<p style=\"color: blue\">Calculate the standard deviations $s_{h_i}$ of the mercury heights for each temperature.  Look up the `help()` documentation for `np.std` and try to calculate all 7 standard deviations with a single command.</p>"
   ]
  },
  {
   "cell_type": "code",
   "execution_count": null,
   "metadata": {},
   "outputs": [],
   "source": []
  },
  {
   "cell_type": "markdown",
   "metadata": {},
   "source": [
    "<p style=\"color: blue\">The standard error of a mean, $\\sigma_{h_i}$, for $N$ values is related to the standard deviation $s_{h_i}$ by</p>\n",
    "\n",
    "<p style=\"color: blue\"><a name=\"eq:stderr\">Equation 4:</a> Standard Error\n",
    "\\begin{equation*}\n",
    "  \\sigma_{h_i} = \\frac{s_{h_i}}{\\sqrt{N}}.\n",
    "\\end{equation*}</p>\n",
    "\n",
    "<p style=\"color: blue\">Compute the standard errors of $\\langle h_i \\rangle$ for each temperature.</p>"
   ]
  },
  {
   "cell_type": "code",
   "execution_count": null,
   "metadata": {},
   "outputs": [],
   "source": []
  },
  {
   "cell_type": "markdown",
   "metadata": {},
   "source": [
    "## Part 2:  Plotting the data"
   ]
  },
  {
   "cell_type": "markdown",
   "metadata": {},
   "source": [
    "<p style=\"color: blue\">The Matplotlib package and its `pyplot` interface (`plt` for short) make plotting graphs of data that is contained in NumPy `np.array`s straightforward.</p>"
   ]
  },
  {
   "cell_type": "code",
   "execution_count": null,
   "metadata": {},
   "outputs": [],
   "source": [
    "## Make matplotlib.pyplot available and set Jupyter to show you the plots in the ouptut\n",
    "%matplotlib inline\n",
    "import matplotlib.pyplot as plt"
   ]
  },
  {
   "cell_type": "markdown",
   "metadata": {},
   "source": [
    "### <a name=\"P2.1\">2.1:</a>  Scatter plot\n",
    "\n",
    "<p style=\"color: blue\">Make a scatter plot of the mean mercury heights, $\\langle h_i \\rangle$, vs. temperature, $T_i$.  Use `help()` on `plt.scatter` for assistance.</p>"
   ]
  },
  {
   "cell_type": "code",
   "execution_count": null,
   "metadata": {},
   "outputs": [],
   "source": []
  },
  {
   "cell_type": "markdown",
   "metadata": {},
   "source": [
    "### <a name=\"P2.2\">2.2:</a>  Add axis labels\n",
    "\n",
    "<p style=\"color: blue\">Add appropriate axis labels to the scatter plot.  `help()` on the functions `plt.xlabel` and `plt.ylabel` may help.</p>"
   ]
  },
  {
   "cell_type": "code",
   "execution_count": null,
   "metadata": {},
   "outputs": [],
   "source": []
  },
  {
   "cell_type": "markdown",
   "metadata": {},
   "source": [
    "### <a name=\"P2.3\">2.3:</a>  Error bars\n",
    "\n",
    "<p style=\"color: blue\">Add error bars to the scatter plot.  The length of the error bars should extend one standard error above and below the data point.  `help()` on `plt.errorbar` may help.</p>"
   ]
  },
  {
   "cell_type": "code",
   "execution_count": null,
   "metadata": {},
   "outputs": [],
   "source": []
  },
  {
   "cell_type": "markdown",
   "metadata": {},
   "source": [
    "### <a name=\"P2.4\">2.4:</a>  Saving and attaching plots\n",
    "\n",
    "<p style=\"color: blue\">Save the plot with error bars as a graphics file in Portable Network Graphics (`.png`) format.  `help()` on `plt.savefig` may help.  From the 'Edit' menu at the top of the browser window, use the 'Insert Image' command to upload that graphics file into the markdown box below.  It may seem a bit silly to paste another copy of the figure into the notebook; this is a mechanical exercise to introduce you to some features of the Jupyter notebook.</p>"
   ]
  },
  {
   "cell_type": "code",
   "execution_count": null,
   "metadata": {},
   "outputs": [],
   "source": []
  },
  {
   "cell_type": "markdown",
   "metadata": {},
   "source": [
    "<p style=\"text-align: center\">Insert Image below</p>\n"
   ]
  },
  {
   "cell_type": "markdown",
   "metadata": {},
   "source": [
    "## Part 3:  Fitting the data"
   ]
  },
  {
   "cell_type": "markdown",
   "metadata": {},
   "source": [
    "<div style=\"color: blue\">From the answers to [Pre-lab 4](#Prelab4), the mercury height, $h$, and the gas temperature, $T$, are expected to be related by [Eq. 3](#eq:hlin):\n",
    "\\begin{equation}\n",
    "  h =  h_0 + \\alpha (T - T_0),\n",
    "\\end{equation}\n",
    "where $T_0$ and $h_0$ are set in the calibration of the device.\n",
    "This simulated gas thermometer was calibrated at standard temperature, $T_0 = 273.15\\,\\mathrm{K}$.</div>"
   ]
  },
  {
   "cell_type": "markdown",
   "metadata": {},
   "source": [
    "### <a name=\"P3.1\">3.1:</a>  Fit!\n",
    "\n",
    "<p style=\"color: blue\">What is the value of the slope of the best-fit line to the $(T, \\langle h \\rangle)$ data?  How does the slope relate to the scale factor $\\alpha$?  `help()` on `np.polyfit` may be useful.</p>"
   ]
  },
  {
   "cell_type": "code",
   "execution_count": null,
   "metadata": {},
   "outputs": [],
   "source": []
  },
  {
   "cell_type": "markdown",
   "metadata": {},
   "source": [
    "### <a name=\"P3.2\">3.2:</a>  Uncertainties from fit \n",
    "\n",
    "<p style=\"color: blue\">What is the uncertainty of the value of the slope?  The `cov` argument of `np.polyfit` might be useful for this.  Remember that the standard deviation is the square root of the variance.  If you did not do so in [Part 3.1](#P3.1), be sure to include the uncertainties (standard errors) of the heights, *e.g.*, through the `w` argument of `np.polyfit`.</p> "
   ]
  },
  {
   "cell_type": "code",
   "execution_count": null,
   "metadata": {},
   "outputs": [],
   "source": []
  },
  {
   "cell_type": "markdown",
   "metadata": {},
   "source": [
    "### <a name=\"P3.3\">3.3:</a>  Plot everything\n",
    "\n",
    "<p style=\"color: blue\">Add a line to the plot from [Part 2.3](#P2.3) that corresponds to the best-fit line.  Some functions that might be useful include `np.poly1d`, `np.linspace`, and `plt.plot`.</p>"
   ]
  },
  {
   "cell_type": "code",
   "execution_count": null,
   "metadata": {},
   "outputs": [],
   "source": []
  }
 ],
 "metadata": {
  "kernelspec": {
   "display_name": "Python3 + physics extras",
   "language": "python",
   "name": "python3-physics-extras"
  },
  "language_info": {
   "codemirror_mode": {
    "name": "ipython",
    "version": 3
   },
   "file_extension": ".py",
   "mimetype": "text/x-python",
   "name": "python",
   "nbconvert_exporter": "python",
   "pygments_lexer": "ipython3",
   "version": "3.4.10"
  }
 },
 "nbformat": 4,
 "nbformat_minor": 2
}
