{
 "cells": [
  {
   "cell_type": "code",
   "execution_count": 3,
   "metadata": {},
   "outputs": [
    {
     "name": "stdout",
     "output_type": "stream",
     "text": [
      "Collecting numpy\n",
      "\u001b[?25l  Downloading https://files.pythonhosted.org/packages/60/9a/a6b3168f2194fb468dcc4cf54c8344d1f514935006c3347ede198e968cb0/numpy-1.17.4-cp37-cp37m-macosx_10_9_x86_64.whl (15.1MB)\n",
      "\u001b[K     |████████████████████████████████| 15.1MB 3.9MB/s eta 0:00:01    |████████▌                       | 4.0MB 4.9MB/s eta 0:00:03     |███████████████████████████     | 12.7MB 2.3MB/s eta 0:00:02     |████████████████████████████▉   | 13.6MB 2.3MB/s eta 0:00:01\n",
      "\u001b[?25hCollecting matplotlib\n",
      "  Using cached https://files.pythonhosted.org/packages/c3/8b/af9e0984f5c0df06d3fab0bf396eb09cbf05f8452de4e9502b182f59c33b/matplotlib-3.1.1-cp37-cp37m-macosx_10_6_intel.macosx_10_9_intel.macosx_10_9_x86_64.macosx_10_10_intel.macosx_10_10_x86_64.whl\n",
      "Requirement already satisfied: python-dateutil>=2.1 in ./pylab/lib/python3.7/site-packages (from matplotlib) (2.8.1)\n",
      "Collecting pyparsing!=2.0.4,!=2.1.2,!=2.1.6,>=2.0.1\n",
      "\u001b[?25l  Downloading https://files.pythonhosted.org/packages/c0/0c/fc2e007d9a992d997f04a80125b0f183da7fb554f1de701bbb70a8e7d479/pyparsing-2.4.5-py2.py3-none-any.whl (67kB)\n",
      "\u001b[K     |████████████████████████████████| 71kB 2.4MB/s eta 0:00:011\n",
      "\u001b[?25hCollecting cycler>=0.10\n",
      "  Using cached https://files.pythonhosted.org/packages/f7/d2/e07d3ebb2bd7af696440ce7e754c59dd546ffe1bbe732c8ab68b9c834e61/cycler-0.10.0-py2.py3-none-any.whl\n",
      "Collecting kiwisolver>=1.0.1\n",
      "  Using cached https://files.pythonhosted.org/packages/df/93/8bc9b52a8846be2b9572aa0a7c881930939b06e4abe1162da6a0430b794f/kiwisolver-1.1.0-cp37-cp37m-macosx_10_6_intel.macosx_10_9_intel.macosx_10_9_x86_64.macosx_10_10_intel.macosx_10_10_x86_64.whl\n",
      "Requirement already satisfied: six>=1.5 in ./pylab/lib/python3.7/site-packages (from python-dateutil>=2.1->matplotlib) (1.13.0)\n",
      "Requirement already satisfied: setuptools in ./pylab/lib/python3.7/site-packages (from kiwisolver>=1.0.1->matplotlib) (40.8.0)\n",
      "Installing collected packages: numpy, pyparsing, cycler, kiwisolver, matplotlib\n",
      "Successfully installed cycler-0.10.0 kiwisolver-1.1.0 matplotlib-3.1.1 numpy-1.17.4 pyparsing-2.4.5\n",
      "Note: you may need to restart the kernel to use updated packages.\n"
     ]
    }
   ],
   "source": [
    "%pip install numpy matplotlib"
   ]
  },
  {
   "cell_type": "code",
   "execution_count": 1,
   "metadata": {},
   "outputs": [
    {
     "name": "stdout",
     "output_type": "stream",
     "text": [
      "Collecting astropy\n",
      "\u001b[?25l  Downloading https://files.pythonhosted.org/packages/f9/e5/221bc8b5636eb61866b671a0c37af930e2c3aa39e7f9a880d62059c60a59/astropy-3.2.3-cp37-cp37m-macosx_10_6_intel.macosx_10_9_intel.macosx_10_9_x86_64.macosx_10_10_intel.macosx_10_10_x86_64.whl (8.2MB)\n",
      "\u001b[K     |████████████████████████████████| 8.2MB 10.2MB/s eta 0:00:01\n",
      "\u001b[?25hRequirement already satisfied: numpy>=1.13 in ./pylab/lib/python3.7/site-packages (from astropy) (1.17.4)\n",
      "Installing collected packages: astropy\n",
      "Successfully installed astropy-3.2.3\n",
      "Note: you may need to restart the kernel to use updated packages.\n"
     ]
    }
   ],
   "source": [
    "%pip install astropy"
   ]
  },
  {
   "cell_type": "code",
   "execution_count": 2,
   "metadata": {},
   "outputs": [
    {
     "name": "stdout",
     "output_type": "stream",
     "text": [
      "Collecting vpython\n",
      "\u001b[?25l  Downloading https://files.pythonhosted.org/packages/8c/36/a4ea6c96ce739b0c52750b233727ba117d595b709f72093e12a41bf2444e/vpython-7.5.2-cp37-cp37m-macosx_10_9_x86_64.whl (3.6MB)\n",
      "\u001b[K     |████████████████████████████████| 3.6MB 1.0MB/s eta 0:00:01\n",
      "\u001b[?25hCollecting autobahn>=18.8.2\n",
      "\u001b[?25l  Downloading https://files.pythonhosted.org/packages/35/77/1bf9b3c4c0850fd6f00996afcf5e71e35295c145833f4e2430d0a7fddbaa/autobahn-19.11.1-py2.py3-none-any.whl (769kB)\n",
      "\u001b[K     |████████████████████████████████| 778kB 1.9MB/s eta 0:00:01\n",
      "\u001b[?25hCollecting jupyter-server-proxy\n",
      "  Downloading https://files.pythonhosted.org/packages/76/16/277851c9a0c03664f292a6de7c91e8253d5efa3f3cdbb56432bab50e94a4/jupyter_server_proxy-1.1.0-py3-none-any.whl\n",
      "Requirement already satisfied: numpy in ./pylab/lib/python3.7/site-packages (from vpython) (1.17.4)\n",
      "Collecting jupyter\n",
      "  Using cached https://files.pythonhosted.org/packages/83/df/0f5dd132200728a86190397e1ea87cd76244e42d39ec5e88efd25b2abd7e/jupyter-1.0.0-py2.py3-none-any.whl\n",
      "Requirement already satisfied: ipykernel in ./pylab/lib/python3.7/site-packages (from vpython) (5.1.3)\n",
      "Requirement already satisfied: six>=1.11.0 in ./pylab/lib/python3.7/site-packages (from autobahn>=18.8.2->vpython) (1.13.0)\n",
      "Collecting txaio>=18.8.1\n",
      "  Downloading https://files.pythonhosted.org/packages/e9/6d/e1a6f7835cde86728e5bb1f577be9b2d7d273fdb33c286e70b087d418ded/txaio-18.8.1-py2.py3-none-any.whl\n",
      "Collecting cryptography>=2.7\n",
      "\u001b[?25l  Downloading https://files.pythonhosted.org/packages/6b/4a/ce93178469d4460d6b3a5e648fc1a2f426030f3d30a12d7ed4df73d044de/cryptography-2.8-cp34-abi3-macosx_10_6_intel.whl (1.6MB)\n",
      "\u001b[K     |████████████████████████████████| 1.6MB 1.0MB/s eta 0:00:01     |█████████████████████████████▏  | 1.5MB 1.0MB/s eta 0:00:01\n",
      "\u001b[?25hRequirement already satisfied: notebook in ./pylab/lib/python3.7/site-packages (from jupyter-server-proxy->vpython) (6.0.2)\n",
      "Collecting simpervisor>=0.2\n",
      "  Downloading https://files.pythonhosted.org/packages/87/81/a0e9cb5001fbd95c7d9f1799b680b867ece65866b1933f9967d622a69fcd/simpervisor-0.3.tar.gz\n",
      "Collecting aiohttp\n",
      "\u001b[?25l  Downloading https://files.pythonhosted.org/packages/40/fd/3a595d6467eb31f7b69eb980778567e764b5d93990b4ceb8ddf6079dd776/aiohttp-3.6.2-cp37-cp37m-macosx_10_13_x86_64.whl (642kB)\n",
      "\u001b[K     |████████████████████████████████| 645kB 1.1MB/s eta 0:00:01\n",
      "\u001b[?25hRequirement already satisfied: nbconvert in ./pylab/lib/python3.7/site-packages (from jupyter->vpython) (5.6.1)\n",
      "Collecting qtconsole\n",
      "\u001b[?25l  Downloading https://files.pythonhosted.org/packages/7c/57/3528b84ffa753e2089908bbf74bb5ae60653eb7a63797b6234e88b847d67/qtconsole-4.6.0-py2.py3-none-any.whl (121kB)\n",
      "\u001b[K     |████████████████████████████████| 122kB 918kB/s eta 0:00:01\n",
      "\u001b[?25hCollecting ipywidgets\n",
      "\u001b[?25l  Downloading https://files.pythonhosted.org/packages/56/a0/dbcf5881bb2f51e8db678211907f16ea0a182b232c591a6d6f276985ca95/ipywidgets-7.5.1-py2.py3-none-any.whl (121kB)\n",
      "\u001b[K     |████████████████████████████████| 122kB 1.6MB/s eta 0:00:01\n",
      "\u001b[?25hCollecting jupyter-console\n",
      "  Using cached https://files.pythonhosted.org/packages/cb/ee/6374ae8c21b7d0847f9c3722dcdfac986b8e54fa9ad9ea66e1eb6320d2b8/jupyter_console-6.0.0-py2.py3-none-any.whl\n",
      "Requirement already satisfied: ipython>=5.0.0 in ./pylab/lib/python3.7/site-packages (from ipykernel->vpython) (7.9.0)\n",
      "Requirement already satisfied: appnope; platform_system == \"Darwin\" in ./pylab/lib/python3.7/site-packages (from ipykernel->vpython) (0.1.0)\n",
      "Requirement already satisfied: traitlets>=4.1.0 in ./pylab/lib/python3.7/site-packages (from ipykernel->vpython) (4.3.3)\n",
      "Requirement already satisfied: jupyter-client in ./pylab/lib/python3.7/site-packages (from ipykernel->vpython) (5.3.4)\n",
      "Requirement already satisfied: tornado>=4.2 in ./pylab/lib/python3.7/site-packages (from ipykernel->vpython) (6.0.3)\n",
      "Collecting cffi!=1.11.3,>=1.8\n",
      "\u001b[?25l  Downloading https://files.pythonhosted.org/packages/d5/61/32b1aa5ef1bf60be4ef679c4aae082a7ceef98517e0e0fde68072c6ef8b6/cffi-1.13.2-cp37-cp37m-macosx_10_6_intel.whl (258kB)\n",
      "\u001b[K     |████████████████████████████████| 266kB 885kB/s eta 0:00:01\n",
      "\u001b[?25hRequirement already satisfied: jinja2 in ./pylab/lib/python3.7/site-packages (from notebook->jupyter-server-proxy->vpython) (2.10.3)\n",
      "Requirement already satisfied: jupyter-core>=4.6.0 in ./pylab/lib/python3.7/site-packages (from notebook->jupyter-server-proxy->vpython) (4.6.1)\n",
      "Requirement already satisfied: prometheus-client in ./pylab/lib/python3.7/site-packages (from notebook->jupyter-server-proxy->vpython) (0.7.1)\n",
      "Requirement already satisfied: pyzmq>=17 in ./pylab/lib/python3.7/site-packages (from notebook->jupyter-server-proxy->vpython) (18.1.1)\n",
      "Requirement already satisfied: terminado>=0.8.1 in ./pylab/lib/python3.7/site-packages (from notebook->jupyter-server-proxy->vpython) (0.8.3)\n",
      "Requirement already satisfied: ipython-genutils in ./pylab/lib/python3.7/site-packages (from notebook->jupyter-server-proxy->vpython) (0.2.0)\n",
      "Requirement already satisfied: Send2Trash in ./pylab/lib/python3.7/site-packages (from notebook->jupyter-server-proxy->vpython) (1.5.0)\n",
      "Requirement already satisfied: nbformat in ./pylab/lib/python3.7/site-packages (from notebook->jupyter-server-proxy->vpython) (4.4.0)\n",
      "Collecting multidict<5.0,>=4.5\n",
      "\u001b[?25l  Downloading https://files.pythonhosted.org/packages/0e/64/39b167d63e292cc2336d09c4d3577089db82cd7886ed535b6100fc7c7966/multidict-4.5.2-cp37-cp37m-macosx_10_12_intel.macosx_10_12_x86_64.macosx_10_13_intel.macosx_10_13_x86_64.whl (196kB)\n",
      "\u001b[K     |████████████████████████████████| 204kB 463kB/s eta 0:00:01\n",
      "\u001b[?25hCollecting yarl<2.0,>=1.0\n",
      "\u001b[?25l  Downloading https://files.pythonhosted.org/packages/fb/84/6d82f6be218c50b547aa29d0315e430cf8a23c52064c92d0a8377d7b7357/yarl-1.3.0.tar.gz (159kB)\n",
      "\u001b[K     |████████████████████████████████| 163kB 1.9MB/s eta 0:00:01\n",
      "\u001b[?25hRequirement already satisfied: attrs>=17.3.0 in ./pylab/lib/python3.7/site-packages (from aiohttp->jupyter-server-proxy->vpython) (19.3.0)\n",
      "Collecting chardet<4.0,>=2.0\n",
      "  Using cached https://files.pythonhosted.org/packages/bc/a9/01ffebfb562e4274b6487b4bb1ddec7ca55ec7510b22e4c51f14098443b8/chardet-3.0.4-py2.py3-none-any.whl\n",
      "Collecting async-timeout<4.0,>=3.0\n",
      "  Downloading https://files.pythonhosted.org/packages/e1/1e/5a4441be21b0726c4464f3f23c8b19628372f606755a9d2e46c187e65ec4/async_timeout-3.0.1-py3-none-any.whl\n",
      "Requirement already satisfied: mistune<2,>=0.8.1 in ./pylab/lib/python3.7/site-packages (from nbconvert->jupyter->vpython) (0.8.4)\n",
      "Requirement already satisfied: defusedxml in ./pylab/lib/python3.7/site-packages (from nbconvert->jupyter->vpython) (0.6.0)\n",
      "Requirement already satisfied: pygments in ./pylab/lib/python3.7/site-packages (from nbconvert->jupyter->vpython) (2.4.2)\n",
      "Requirement already satisfied: testpath in ./pylab/lib/python3.7/site-packages (from nbconvert->jupyter->vpython) (0.4.4)\n",
      "Requirement already satisfied: entrypoints>=0.2.2 in ./pylab/lib/python3.7/site-packages (from nbconvert->jupyter->vpython) (0.3)\n",
      "Requirement already satisfied: bleach in ./pylab/lib/python3.7/site-packages (from nbconvert->jupyter->vpython) (3.1.0)\n",
      "Requirement already satisfied: pandocfilters>=1.4.1 in ./pylab/lib/python3.7/site-packages (from nbconvert->jupyter->vpython) (1.4.2)\n",
      "Collecting widgetsnbextension~=3.5.0\n",
      "\u001b[?25l  Downloading https://files.pythonhosted.org/packages/6c/7b/7ac231c20d2d33c445eaacf8a433f4e22c60677eb9776c7c5262d7ddee2d/widgetsnbextension-3.5.1-py2.py3-none-any.whl (2.2MB)\n",
      "\u001b[K     |████████████████████████████████| 2.2MB 2.2MB/s eta 0:00:01\n",
      "\u001b[?25hRequirement already satisfied: prompt-toolkit<2.1.0,>=2.0.0 in ./pylab/lib/python3.7/site-packages (from jupyter-console->jupyter->vpython) (2.0.10)\n",
      "Requirement already satisfied: pickleshare in ./pylab/lib/python3.7/site-packages (from ipython>=5.0.0->ipykernel->vpython) (0.7.5)\n",
      "Requirement already satisfied: setuptools>=18.5 in ./pylab/lib/python3.7/site-packages (from ipython>=5.0.0->ipykernel->vpython) (40.8.0)\n",
      "Requirement already satisfied: decorator in ./pylab/lib/python3.7/site-packages (from ipython>=5.0.0->ipykernel->vpython) (4.4.1)\n",
      "Requirement already satisfied: backcall in ./pylab/lib/python3.7/site-packages (from ipython>=5.0.0->ipykernel->vpython) (0.1.0)\n",
      "Requirement already satisfied: pexpect; sys_platform != \"win32\" in ./pylab/lib/python3.7/site-packages (from ipython>=5.0.0->ipykernel->vpython) (4.7.0)\n",
      "Requirement already satisfied: jedi>=0.10 in ./pylab/lib/python3.7/site-packages (from ipython>=5.0.0->ipykernel->vpython) (0.15.1)\n",
      "Requirement already satisfied: python-dateutil>=2.1 in ./pylab/lib/python3.7/site-packages (from jupyter-client->ipykernel->vpython) (2.8.1)\n"
     ]
    },
    {
     "name": "stdout",
     "output_type": "stream",
     "text": [
      "Collecting pycparser\n",
      "  Using cached https://files.pythonhosted.org/packages/68/9e/49196946aee219aead1290e00d1e7fdeab8567783e83e1b9ab5585e6206a/pycparser-2.19.tar.gz\n",
      "Requirement already satisfied: MarkupSafe>=0.23 in ./pylab/lib/python3.7/site-packages (from jinja2->notebook->jupyter-server-proxy->vpython) (1.1.1)\n",
      "Requirement already satisfied: ptyprocess; os_name != \"nt\" in ./pylab/lib/python3.7/site-packages (from terminado>=0.8.1->notebook->jupyter-server-proxy->vpython) (0.6.0)\n",
      "Requirement already satisfied: jsonschema!=2.5.0,>=2.4 in ./pylab/lib/python3.7/site-packages (from nbformat->notebook->jupyter-server-proxy->vpython) (3.1.1)\n",
      "Collecting idna>=2.0\n",
      "  Using cached https://files.pythonhosted.org/packages/14/2c/cd551d81dbe15200be1cf41cd03869a46fe7226e7450af7a6545bfc474c9/idna-2.8-py2.py3-none-any.whl\n",
      "Requirement already satisfied: webencodings in ./pylab/lib/python3.7/site-packages (from bleach->nbconvert->jupyter->vpython) (0.5.1)\n",
      "Requirement already satisfied: wcwidth in ./pylab/lib/python3.7/site-packages (from prompt-toolkit<2.1.0,>=2.0.0->jupyter-console->jupyter->vpython) (0.1.7)\n",
      "Requirement already satisfied: parso>=0.5.0 in ./pylab/lib/python3.7/site-packages (from jedi>=0.10->ipython>=5.0.0->ipykernel->vpython) (0.5.1)\n",
      "Requirement already satisfied: importlib-metadata in ./pylab/lib/python3.7/site-packages (from jsonschema!=2.5.0,>=2.4->nbformat->notebook->jupyter-server-proxy->vpython) (0.23)\n",
      "Requirement already satisfied: pyrsistent>=0.14.0 in ./pylab/lib/python3.7/site-packages (from jsonschema!=2.5.0,>=2.4->nbformat->notebook->jupyter-server-proxy->vpython) (0.15.5)\n",
      "Requirement already satisfied: zipp>=0.5 in ./pylab/lib/python3.7/site-packages (from importlib-metadata->jsonschema!=2.5.0,>=2.4->nbformat->notebook->jupyter-server-proxy->vpython) (0.6.0)\n",
      "Requirement already satisfied: more-itertools in ./pylab/lib/python3.7/site-packages (from zipp>=0.5->importlib-metadata->jsonschema!=2.5.0,>=2.4->nbformat->notebook->jupyter-server-proxy->vpython) (7.2.0)\n",
      "Installing collected packages: txaio, pycparser, cffi, cryptography, autobahn, simpervisor, multidict, idna, yarl, chardet, async-timeout, aiohttp, jupyter-server-proxy, qtconsole, widgetsnbextension, ipywidgets, jupyter-console, jupyter, vpython\n",
      "    Running setup.py install for pycparser ... \u001b[?25ldone\n",
      "\u001b[?25h    Running setup.py install for simpervisor ... \u001b[?25ldone\n",
      "\u001b[?25h    Running setup.py install for yarl ... \u001b[?25ldone\n",
      "\u001b[?25hSuccessfully installed aiohttp-3.6.2 async-timeout-3.0.1 autobahn-19.11.1 cffi-1.13.2 chardet-3.0.4 cryptography-2.8 idna-2.8 ipywidgets-7.5.1 jupyter-1.0.0 jupyter-console-6.0.0 jupyter-server-proxy-1.1.0 multidict-4.5.2 pycparser-2.19 qtconsole-4.6.0 simpervisor-0.3 txaio-18.8.1 vpython-7.5.2 widgetsnbextension-3.5.1 yarl-1.3.0\n",
      "Note: you may need to restart the kernel to use updated packages.\n"
     ]
    }
   ],
   "source": [
    "%pip install vpython "
   ]
  },
  {
   "cell_type": "code",
   "execution_count": null,
   "metadata": {},
   "outputs": [
    {
     "data": {
      "text/html": [
       "<div id=\"glowscript\" class=\"glowscript\"></div>"
      ],
      "text/plain": [
       "<IPython.core.display.HTML object>"
      ]
     },
     "metadata": {},
     "output_type": "display_data"
    },
    {
     "data": {
      "application/javascript": [
       "if (typeof Jupyter !== \"undefined\") { window.__context = { glowscript_container: $(\"#glowscript\").removeAttr(\"id\")};}else{ element.textContent = ' ';}"
      ],
      "text/plain": [
       "<IPython.core.display.Javascript object>"
      ]
     },
     "metadata": {},
     "output_type": "display_data"
    }
   ],
   "source": [
    "## three dimensional simulation of the three-body problem\n",
    "## Graham Woan vPython 7 version 2018\n",
    "from vpython import *\n",
    "import numpy as np\n",
    "\n",
    "scene.width = 900\n",
    "scene.height = 700\n",
    "\n",
    "scene.caption = \"\"\"Three bodies interacting under gravity.  \n",
    "Right button drag to rotate \"camera\" to view scene. To zoom, drag with middle button or use scroll wheel. \n",
    "On a two-button mouse, middle is left + right.\n",
    "Gestures: pinch/extend to zoom, swipe or two-fingers to rotate.\"\"\"\n",
    "\n",
    "## set up the masses\n",
    "m1 = sphere(pos=vector( 10,0,0),vel=vector( 0.0, 1.0,0.0),\n",
    "              mass=10.0, color=color.red,\n",
    "              make_trail=True, interval=2, retain=200)\n",
    "m2 = sphere(pos=vector(-10,0,3),vel=vector(-0.3,-1.0,0.5),\n",
    "              mass=10.0, color=color.yellow,\n",
    "              make_trail=True, interval=2, retain=200)\n",
    "m3 = sphere(pos=vector(  0,0,0),vel=vector(   0, 0.1,0.1),\n",
    "              mass=10.0, color=color.white,\n",
    "              make_trail=True, interval=2, retain=200)\n",
    "\n",
    "## move to the centre of mass frame and adjust sizes for constant density\n",
    "vcentre=(m1.mass*m1.vel+m2.mass*m2.vel+m3.mass*m3.vel)/(m1.mass+m2.mass+m3.mass)\n",
    "for a in [m1, m2, m3]:\n",
    "    a.vel -= vcentre\n",
    "    a.radius = 0.5*a.mass**(1.0/3.0)\n",
    "\n",
    "def dydt(y):\n",
    "## determine the derivative of the state vector y\n",
    "    deriv = np.zeros(6, dtype=vector)\n",
    "    r12=y[0]-y[2]; r23=y[2]-y[4]; r31=y[4]-y[0]\n",
    "    r12c=r12/mag(r12)**3; r23c=r23/mag(r23)**3; r31c=r31/mag(r31)**3\n",
    "    deriv[1] = -m2.mass*r12c + m3.mass*r31c\n",
    "    deriv[3] = -m3.mass*r23c + m1.mass*r12c\n",
    "    deriv[5] = -m1.mass*r31c + m2.mass*r23c\n",
    "    deriv[0:5:2] = y[1:6:2] ## just copy the three velocities from y\n",
    "    return deriv\n",
    "\n",
    "dt = 0.1 ## the time step.  Keep this as small as possible.\n",
    "y = np.zeros((6), dtype=vector) # set up the state vector, holding the positions and velovities of the three bodies\n",
    "    \n",
    "while True:\n",
    "    rate(200)\n",
    "## solve using forth-order Runge Kutta.  See CHOPF p62.\n",
    "    y = [m1.pos,m1.vel,m2.pos,m2.vel,m3.pos,m3.vel]\n",
    "    k1 = dt*dydt(y)\n",
    "    k2 = dt*dydt(y+k1/2.0)\n",
    "    k3 = dt*dydt(y+k2/2.0);  k4 = dt*dydt(y+k3)\n",
    "    dy = k1/6.0 + k2/3.0 +k3/3.0 + k4/6.0\n",
    "## update the animation\n",
    "    m1.pos += dy[0]; m1.vel += dy[1]\n",
    "    m2.pos += dy[2]; m2.vel += dy[3]\n",
    "    m3.pos += dy[4]; m3.vel += dy[5]\n",
    "    print(\"{}, {}, {}, {}, {}, {}\".format(m1.pos, m1.vel, m2.pos, m2.vel, m3.pos, m3.vel))"
   ]
  },
  {
   "cell_type": "code",
   "execution_count": null,
   "metadata": {},
   "outputs": [],
   "source": []
  }
 ],
 "metadata": {
  "kernelspec": {
   "display_name": "Python 3",
   "language": "python",
   "name": "python3"
  },
  "language_info": {
   "codemirror_mode": {
    "name": "ipython",
    "version": 3
   },
   "file_extension": ".py",
   "mimetype": "text/x-python",
   "name": "python",
   "nbconvert_exporter": "python",
   "pygments_lexer": "ipython3",
   "version": "3.7.4"
  }
 },
 "nbformat": 4,
 "nbformat_minor": 2
}
